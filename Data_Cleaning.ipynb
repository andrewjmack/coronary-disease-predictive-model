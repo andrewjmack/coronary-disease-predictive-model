{
 "cells": [
  {
   "cell_type": "code",
   "execution_count": 1,
   "id": "19734195-09ff-4d8c-a51f-dda854db5c4d",
   "metadata": {},
   "outputs": [],
   "source": [
    "# Import dependencies\n",
    "from pathlib import Path\n",
    "import pandas as pd\n",
    "import matplotlib.pyplot as plt\n",
    "\n",
    "# Create a path reference to the file \n",
    "heart_path = Path(\"resources/heart.csv\")"
   ]
  },
  {
   "cell_type": "code",
   "execution_count": 2,
   "id": "c7865045-b639-41d3-9e36-313cfbd7d79a",
   "metadata": {},
   "outputs": [
    {
     "data": {
      "text/html": [
       "<div>\n",
       "<style scoped>\n",
       "    .dataframe tbody tr th:only-of-type {\n",
       "        vertical-align: middle;\n",
       "    }\n",
       "\n",
       "    .dataframe tbody tr th {\n",
       "        vertical-align: top;\n",
       "    }\n",
       "\n",
       "    .dataframe thead th {\n",
       "        text-align: right;\n",
       "    }\n",
       "</style>\n",
       "<table border=\"1\" class=\"dataframe\">\n",
       "  <thead>\n",
       "    <tr style=\"text-align: right;\">\n",
       "      <th></th>\n",
       "      <th>Age</th>\n",
       "      <th>Sex</th>\n",
       "      <th>ChestPainType</th>\n",
       "      <th>RestingBP</th>\n",
       "      <th>Cholesterol</th>\n",
       "      <th>FastingBS</th>\n",
       "      <th>RestingECG</th>\n",
       "      <th>MaxHR</th>\n",
       "      <th>ExerciseAngina</th>\n",
       "      <th>Oldpeak</th>\n",
       "      <th>ST_Slope</th>\n",
       "      <th>HeartDisease</th>\n",
       "    </tr>\n",
       "  </thead>\n",
       "  <tbody>\n",
       "    <tr>\n",
       "      <th>0</th>\n",
       "      <td>40</td>\n",
       "      <td>M</td>\n",
       "      <td>ATA</td>\n",
       "      <td>140</td>\n",
       "      <td>289</td>\n",
       "      <td>0</td>\n",
       "      <td>Normal</td>\n",
       "      <td>172</td>\n",
       "      <td>N</td>\n",
       "      <td>0.0</td>\n",
       "      <td>Up</td>\n",
       "      <td>0</td>\n",
       "    </tr>\n",
       "    <tr>\n",
       "      <th>1</th>\n",
       "      <td>49</td>\n",
       "      <td>F</td>\n",
       "      <td>NAP</td>\n",
       "      <td>160</td>\n",
       "      <td>180</td>\n",
       "      <td>0</td>\n",
       "      <td>Normal</td>\n",
       "      <td>156</td>\n",
       "      <td>N</td>\n",
       "      <td>1.0</td>\n",
       "      <td>Flat</td>\n",
       "      <td>1</td>\n",
       "    </tr>\n",
       "    <tr>\n",
       "      <th>2</th>\n",
       "      <td>37</td>\n",
       "      <td>M</td>\n",
       "      <td>ATA</td>\n",
       "      <td>130</td>\n",
       "      <td>283</td>\n",
       "      <td>0</td>\n",
       "      <td>ST</td>\n",
       "      <td>98</td>\n",
       "      <td>N</td>\n",
       "      <td>0.0</td>\n",
       "      <td>Up</td>\n",
       "      <td>0</td>\n",
       "    </tr>\n",
       "    <tr>\n",
       "      <th>3</th>\n",
       "      <td>48</td>\n",
       "      <td>F</td>\n",
       "      <td>ASY</td>\n",
       "      <td>138</td>\n",
       "      <td>214</td>\n",
       "      <td>0</td>\n",
       "      <td>Normal</td>\n",
       "      <td>108</td>\n",
       "      <td>Y</td>\n",
       "      <td>1.5</td>\n",
       "      <td>Flat</td>\n",
       "      <td>1</td>\n",
       "    </tr>\n",
       "    <tr>\n",
       "      <th>4</th>\n",
       "      <td>54</td>\n",
       "      <td>M</td>\n",
       "      <td>NAP</td>\n",
       "      <td>150</td>\n",
       "      <td>195</td>\n",
       "      <td>0</td>\n",
       "      <td>Normal</td>\n",
       "      <td>122</td>\n",
       "      <td>N</td>\n",
       "      <td>0.0</td>\n",
       "      <td>Up</td>\n",
       "      <td>0</td>\n",
       "    </tr>\n",
       "  </tbody>\n",
       "</table>\n",
       "</div>"
      ],
      "text/plain": [
       "   Age Sex ChestPainType  RestingBP  Cholesterol  FastingBS RestingECG  MaxHR  \\\n",
       "0   40   M           ATA        140          289          0     Normal    172   \n",
       "1   49   F           NAP        160          180          0     Normal    156   \n",
       "2   37   M           ATA        130          283          0         ST     98   \n",
       "3   48   F           ASY        138          214          0     Normal    108   \n",
       "4   54   M           NAP        150          195          0     Normal    122   \n",
       "\n",
       "  ExerciseAngina  Oldpeak ST_Slope  HeartDisease  \n",
       "0              N      0.0       Up             0  \n",
       "1              N      1.0     Flat             1  \n",
       "2              N      0.0       Up             0  \n",
       "3              Y      1.5     Flat             1  \n",
       "4              N      0.0       Up             0  "
      ]
     },
     "execution_count": 2,
     "metadata": {},
     "output_type": "execute_result"
    }
   ],
   "source": [
    "# Read CSV into DataFrame\n",
    "df = pd.read_csv(heart_path, delimiter=\",\")\n",
    "\n",
    "# Preview DataFrame\n",
    "df.head()"
   ]
  },
  {
   "cell_type": "code",
   "execution_count": 3,
   "id": "51b4a9f5-8a46-4a7f-b795-aa4deb5924a8",
   "metadata": {},
   "outputs": [
    {
     "name": "stdout",
     "output_type": "stream",
     "text": [
      "Age              0\n",
      "RestingBP        1\n",
      "Cholesterol    172\n",
      "FastingBS      704\n",
      "MaxHR            0\n",
      "Oldpeak        368\n",
      "dtype: int64\n"
     ]
    }
   ],
   "source": [
    "# Check for values of zero in features that are int or float, as these may be spurious\n",
    "age_zero = (df[['Age', 'RestingBP', 'Cholesterol', 'FastingBS',\t'MaxHR', 'Oldpeak']] == 0).sum()\n",
    "print(age_zero)"
   ]
  },
  {
   "cell_type": "code",
   "execution_count": 4,
   "id": "845bde70-f027-4032-828f-4eda4b1b2ed8",
   "metadata": {},
   "outputs": [],
   "source": [
    "df_no_zeros = df[df[\"Cholesterol\"] != 0]    "
   ]
  },
  {
   "cell_type": "code",
   "execution_count": 5,
   "id": "be08536e-198d-4b00-8bd8-4d5bedaf25b3",
   "metadata": {},
   "outputs": [],
   "source": [
    "df_no_zeros = df_no_zeros[df_no_zeros[\"RestingBP\"] != 0]"
   ]
  },
  {
   "cell_type": "code",
   "execution_count": 6,
   "id": "b8f9f68b-414d-486f-a3b8-1f0cc035bcfd",
   "metadata": {},
   "outputs": [
    {
     "name": "stdout",
     "output_type": "stream",
     "text": [
      "Age              0\n",
      "RestingBP        0\n",
      "Cholesterol      0\n",
      "FastingBS      621\n",
      "MaxHR            0\n",
      "Oldpeak        317\n",
      "dtype: int64\n"
     ]
    }
   ],
   "source": [
    "age_zero = (df_no_zeros[['Age', 'RestingBP', 'Cholesterol', 'FastingBS',\t'MaxHR', 'Oldpeak']] == 0).sum()\n",
    "print(age_zero)"
   ]
  },
  {
   "cell_type": "code",
   "execution_count": 7,
   "id": "047c7f50-32c9-4b62-8411-6f193a05f097",
   "metadata": {},
   "outputs": [],
   "source": [
    "df_no_zeros.to_csv(\"resources/heart_no_zeros.csv\", index=False)"
   ]
  },
  {
   "cell_type": "code",
   "execution_count": 8,
   "id": "60b81641-b686-4f75-bd73-bb4ccc195b82",
   "metadata": {},
   "outputs": [
    {
     "data": {
      "image/png": "[encoded data removed]",
      "text/plain": [
       "<Figure size 800x600 with 1 Axes>"
      ]
     },
     "metadata": {},
     "output_type": "display_data"
    }
   ],
   "source": [
    "# Create a box plot of the specified column\n",
    "plt.figure(figsize=(8, 6))\n",
    "df_no_zeros.boxplot(column='Cholesterol')\n",
    "plt.title('Box and Whisker Plot of Column')\n",
    "plt.ylabel('Values')\n",
    "plt.show()"
   ]
  },
  {
   "cell_type": "code",
   "execution_count": 9,
   "id": "8263816e-2e66-45df-a8b6-250f46d7f3ba",
   "metadata": {},
   "outputs": [
    {
     "data": {
      "text/plain": [
       "(array([ 12.,  91., 288., 229.,  96.,  17.,   5.,   4.,   2.,   2.]),\n",
       " array([ 85. , 136.8, 188.6, 240.4, 292.2, 344. , 395.8, 447.6, 499.4,\n",
       "        551.2, 603. ]),\n",
       " <BarContainer object of 10 artists>)"
      ]
     },
     "execution_count": 9,
     "metadata": {},
     "output_type": "execute_result"
    },
    {
     "data": {
      "image/png": "[encoded data removed]",
      "text/plain": [
       "<Figure size 640x480 with 1 Axes>"
      ]
     },
     "metadata": {},
     "output_type": "display_data"
    }
   ],
   "source": [
    "plt.hist(df_no_zeros[\"Cholesterol\"])"
   ]
  },
  {
   "cell_type": "code",
   "execution_count": 10,
   "id": "9a3ef9a0-431c-4c68-b3ee-bd34fd47424e",
   "metadata": {},
   "outputs": [
    {
     "data": {
      "text/plain": [
       "237.0"
      ]
     },
     "execution_count": 10,
     "metadata": {},
     "output_type": "execute_result"
    }
   ],
   "source": [
    "Ch_replacement = df_no_zeros[\"Cholesterol\"].median()\n",
    "df_no_zeros[\"Cholesterol\"].median()"
   ]
  },
  {
   "cell_type": "code",
   "execution_count": 11,
   "id": "26e2b9be-4bd2-4107-8078-1f6b397b0c31",
   "metadata": {},
   "outputs": [
    {
     "data": {
      "text/plain": [
       "244.6353887399464"
      ]
     },
     "execution_count": 11,
     "metadata": {},
     "output_type": "execute_result"
    }
   ],
   "source": [
    "df_no_zeros[\"Cholesterol\"].mean()"
   ]
  },
  {
   "cell_type": "code",
   "execution_count": 12,
   "id": "700c63a6-e9e4-45bc-9924-6d6491df6e36",
   "metadata": {},
   "outputs": [
    {
     "data": {
      "image/png": "[encoded data removed]",
      "text/plain": [
       "<Figure size 800x600 with 1 Axes>"
      ]
     },
     "metadata": {},
     "output_type": "display_data"
    }
   ],
   "source": [
    "plt.figure(figsize=(8, 6))\n",
    "df_no_zeros.boxplot(column='RestingBP')\n",
    "plt.title('Box and Whisker Plot of Column')\n",
    "plt.ylabel('Values')\n",
    "plt.show()"
   ]
  },
  {
   "cell_type": "code",
   "execution_count": 13,
   "id": "aedd231b-771b-4e4a-83b3-b429efc53d78",
   "metadata": {},
   "outputs": [
    {
     "data": {
      "text/plain": [
       "(array([ 19.,  77., 153., 187., 166.,  67.,  45.,  17.,  10.,   5.]),\n",
       " array([ 92. , 102.8, 113.6, 124.4, 135.2, 146. , 156.8, 167.6, 178.4,\n",
       "        189.2, 200. ]),\n",
       " <BarContainer object of 10 artists>)"
      ]
     },
     "execution_count": 13,
     "metadata": {},
     "output_type": "execute_result"
    },
    {
     "data": {
      "image/png": "[encoded data removed]",
      "text/plain": [
       "<Figure size 640x480 with 1 Axes>"
      ]
     },
     "metadata": {},
     "output_type": "display_data"
    }
   ],
   "source": [
    "plt.hist(df_no_zeros[\"RestingBP\"])"
   ]
  },
  {
   "cell_type": "code",
   "execution_count": 14,
   "id": "d24f4d39-adcb-4c11-93a3-5cf9d376f647",
   "metadata": {},
   "outputs": [
    {
     "data": {
      "text/plain": [
       "130.0"
      ]
     },
     "execution_count": 14,
     "metadata": {},
     "output_type": "execute_result"
    }
   ],
   "source": [
    "BP_replacement = df_no_zeros[\"RestingBP\"].median()\n",
    "df_no_zeros[\"RestingBP\"].median()"
   ]
  },
  {
   "cell_type": "code",
   "execution_count": 15,
   "id": "c461bae6-29a4-47dd-a8ad-06b003a79f81",
   "metadata": {},
   "outputs": [
    {
     "data": {
      "text/plain": [
       "133.02278820375335"
      ]
     },
     "execution_count": 15,
     "metadata": {},
     "output_type": "execute_result"
    }
   ],
   "source": [
    "df_no_zeros[\"RestingBP\"].mean()"
   ]
  },
  {
   "cell_type": "code",
   "execution_count": 16,
   "id": "888545ec-7d7a-4340-beb4-9e6d37e877ea",
   "metadata": {},
   "outputs": [],
   "source": [
    "cleaned_df = df.copy()\n",
    "cleaned_df['Cholesterol'] = cleaned_df['Cholesterol'].replace(0, Ch_replacement)\n",
    "cleaned_df['RestingBP'] = cleaned_df['RestingBP'].replace(0, BP_replacement)"
   ]
  },
  {
   "cell_type": "code",
   "execution_count": 17,
   "id": "f70c9be6-fadc-4164-b1fe-a33b524ff8fe",
   "metadata": {},
   "outputs": [],
   "source": [
    "cleaned_df.to_csv(\"resources/heart_replaced_values.csv\", index=False)"
   ]
  },
  {
   "cell_type": "code",
   "execution_count": 18,
   "id": "08ee1d66-f21c-4ef9-b6de-5254d7696eb5",
   "metadata": {},
   "outputs": [
    {
     "name": "stdout",
     "output_type": "stream",
     "text": [
      "Age              0\n",
      "RestingBP        0\n",
      "Cholesterol      0\n",
      "FastingBS      704\n",
      "MaxHR            0\n",
      "Oldpeak        368\n",
      "dtype: int64\n"
     ]
    }
   ],
   "source": [
    "age_zero = (cleaned_df[['Age', 'RestingBP', 'Cholesterol', 'FastingBS',\t'MaxHR', 'Oldpeak']] == 0).sum()\n",
    "print(age_zero)"
   ]
  },
  {
   "cell_type": "code",
   "execution_count": 19,
   "id": "7699991a-5a0b-40c7-a938-001bb78750c9",
   "metadata": {},
   "outputs": [
    {
     "data": {
      "text/plain": [
       "918"
      ]
     },
     "execution_count": 19,
     "metadata": {},
     "output_type": "execute_result"
    }
   ],
   "source": [
    "len(cleaned_df)"
   ]
  },
  {
   "cell_type": "code",
   "execution_count": 20,
   "id": "e7b71962-c206-4879-948b-c9e586ca6917",
   "metadata": {},
   "outputs": [
    {
     "data": {
      "text/plain": [
       "746"
      ]
     },
     "execution_count": 20,
     "metadata": {},
     "output_type": "execute_result"
    }
   ],
   "source": [
    "len(df_no_zeros)"
   ]
  },
  {
   "cell_type": "code",
   "execution_count": 21,
   "id": "ba47f854-b458-43f2-8d9c-a213a796416c",
   "metadata": {},
   "outputs": [
    {
     "data": {
      "text/plain": [
       "918"
      ]
     },
     "execution_count": 21,
     "metadata": {},
     "output_type": "execute_result"
    }
   ],
   "source": [
    "len(df)"
   ]
  },
  {
   "cell_type": "code",
   "execution_count": 22,
   "id": "e28ff030-3889-494a-bef3-3a7a519ea6f6",
   "metadata": {},
   "outputs": [
    {
     "name": "stdout",
     "output_type": "stream",
     "text": [
      "HeartDisease    508\n",
      "dtype: int64\n"
     ]
    }
   ],
   "source": [
    "age_zero = (df[['HeartDisease']] == 1).sum()\n",
    "print(age_zero)"
   ]
  },
  {
   "cell_type": "code",
   "execution_count": 27,
   "id": "a7e912d2-b9c0-4a00-9067-ef6c91c94318",
   "metadata": {},
   "outputs": [
    {
     "data": {
      "text/plain": [
       "152"
      ]
     },
     "execution_count": 27,
     "metadata": {},
     "output_type": "execute_result"
    }
   ],
   "source": [
    "((df['HeartDisease'] == 1) & (df[\"Cholesterol\"] == 0)).sum()"
   ]
  }
 ],
 "metadata": {
  "kernelspec": {
   "display_name": "Python 3 (ipykernel)",
   "language": "python",
   "name": "python3"
  },
  "language_info": {
   "codemirror_mode": {
    "name": "ipython",
    "version": 3
   },
   "file_extension": ".py",
   "mimetype": "text/x-python",
   "name": "python",
   "nbconvert_exporter": "python",
   "pygments_lexer": "ipython3",
   "version": "3.10.13"
  }
 },
 "nbformat": 4,
 "nbformat_minor": 5
}
